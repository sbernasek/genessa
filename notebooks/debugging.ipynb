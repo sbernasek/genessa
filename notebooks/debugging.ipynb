{
 "cells": [
  {
   "cell_type": "code",
   "execution_count": 1,
   "metadata": {},
   "outputs": [],
   "source": [
    "import matplotlib.pyplot as plt\n",
    "%matplotlib inline"
   ]
  },
  {
   "cell_type": "code",
   "execution_count": 10,
   "metadata": {},
   "outputs": [],
   "source": [
    "from genessa.kinetics.massaction import MassAction\n",
    "from genessa.solver.stochastic import MonteCarloSimulation\n",
    "from genessa.networks.networks import Network\n",
    "\n",
    "# define decay reaction\n",
    "decay = MassAction(stoichiometry=[-1], k=2)\n",
    "synthesis = MassAction(stoichiometry=[1], k=1, input_dependence=1)\n",
    "\n",
    "# add both reactions to the network\n",
    "network = Network(N=1, I=2, reactions=[decay, synthesis])\n",
    "\n",
    "# instantiate solver\n",
    "solver = MonteCarloSimulation(network, ic=[0])"
   ]
  },
  {
   "cell_type": "code",
   "execution_count": 15,
   "metadata": {},
   "outputs": [],
   "source": [
    "from genessa.signals.signals import cSquareWave, cSignal, cSquarePulse, cMultiPulse\n",
    "import matplotlib.pyplot as plt\n",
    "import numpy as np\n",
    "\n",
    "signal = cMultiPulse([1., 1.], [3., 10.])\n",
    "\n",
    "timeseries = solver.run(N=1, duration=10, dt=0.01, signal=signal)"
   ]
  },
  {
   "cell_type": "code",
   "execution_count": 12,
   "metadata": {},
   "outputs": [
    {
     "data": {
      "image/png": "[encoded data removed]",
      "text/plain": [
       "<Figure size 432x288 with 1 Axes>"
      ]
     },
     "metadata": {
      "needs_background": "light"
     },
     "output_type": "display_data"
    }
   ],
   "source": [
    "# define the state dimension of interest\n",
    "species = 0\n",
    "\n",
    "# create figure\n",
    "fig, ax = plt.subplots(figsize=(6, 4))\n",
    "ax.set_xlabel('Time (min)')\n",
    "ax.set_ylabel('Level')\n",
    "\n",
    "# add a black line for each individual trajectory \n",
    "for trajectory in timeseries.states[:, species, :]:\n",
    "    ax.plot(timeseries.t, trajectory, '-k', lw=0.5)\n",
    "\n",
    "# add a red line for the mean of all simulated trajectories\n",
    "_ = ax.plot(timeseries.t, timeseries.mean[species], '-r')"
   ]
  },
  {
   "cell_type": "code",
   "execution_count": null,
   "metadata": {},
   "outputs": [],
   "source": []
  },
  {
   "cell_type": "code",
   "execution_count": 6,
   "metadata": {},
   "outputs": [
    {
     "data": {
      "text/plain": [
       "[<matplotlib.lines.Line2D at 0x119e10ac8>]"
      ]
     },
     "execution_count": 6,
     "metadata": {},
     "output_type": "execute_result"
    },
    {
     "data": {
      "image/png": "[encoded data removed]",
      "text/plain": [
       "<Figure size 432x288 with 1 Axes>"
      ]
     },
     "metadata": {
      "needs_background": "light"
     },
     "output_type": "display_data"
    }
   ],
   "source": []
  },
  {
   "cell_type": "code",
   "execution_count": 10,
   "metadata": {},
   "outputs": [
    {
     "data": {
      "text/plain": [
       "[<matplotlib.lines.Line2D at 0x11a3813c8>]"
      ]
     },
     "execution_count": 10,
     "metadata": {},
     "output_type": "execute_result"
    },
    {
     "data": {
      "image/png": "[encoded data removed]",
      "text/plain": [
       "<Figure size 432x288 with 1 Axes>"
      ]
     },
     "metadata": {
      "needs_background": "light"
     },
     "output_type": "display_data"
    }
   ],
   "source": []
  },
  {
   "cell_type": "code",
   "execution_count": 14,
   "metadata": {},
   "outputs": [
    {
     "data": {
      "text/plain": [
       "15.0"
      ]
     },
     "execution_count": 14,
     "metadata": {},
     "output_type": "execute_result"
    }
   ],
   "source": [
    "wave.get_next_update(10)"
   ]
  },
  {
   "cell_type": "code",
   "execution_count": 15,
   "metadata": {},
   "outputs": [],
   "source": [
    "timeseries = solver.run(N=100, duration=5, dt=0.01, signal=wave)"
   ]
  },
  {
   "cell_type": "code",
   "execution_count": 10,
   "metadata": {},
   "outputs": [],
   "source": [
    "def test(*args, **kwargs):\n",
    "    if len(args) > 0:\n",
    "        argument = args[0]\n",
    "    elif len(kwargs) > 0:\n",
    "        argument = [v for k,v in kwargs.items() if v is not None][0]\n",
    "    else:\n",
    "        argument = 1.\n",
    "    \n",
    "    print(argument)"
   ]
  },
  {
   "cell_type": "code",
   "execution_count": 11,
   "metadata": {},
   "outputs": [
    {
     "name": "stdout",
     "output_type": "stream",
     "text": [
      "1.0\n"
     ]
    }
   ],
   "source": [
    "test()"
   ]
  },
  {
   "cell_type": "code",
   "execution_count": null,
   "metadata": {},
   "outputs": [],
   "source": []
  },
  {
   "cell_type": "code",
   "execution_count": 1,
   "metadata": {},
   "outputs": [
    {
     "data": {
      "text/plain": [
       "array([ 1,  1, 10, 10])"
      ]
     },
     "execution_count": 1,
     "metadata": {},
     "output_type": "execute_result"
    }
   ],
   "source": [
    "import numpy as np\n",
    "\n",
    "t_on = [1, 1]\n",
    "t_off = [10, 10]\n",
    "\n",
    "update_times = np.sort(np.hstack((t_off, t_on)))\n",
    "\n",
    "update_times"
   ]
  },
  {
   "cell_type": "code",
   "execution_count": null,
   "metadata": {},
   "outputs": [],
   "source": []
  }
 ],
 "metadata": {
  "kernelspec": {
   "display_name": "metabolism",
   "language": "python",
   "name": "metabolism"
  },
  "language_info": {
   "codemirror_mode": {
    "name": "ipython",
    "version": 3
   },
   "file_extension": ".py",
   "mimetype": "text/x-python",
   "name": "python",
   "nbconvert_exporter": "python",
   "pygments_lexer": "ipython3",
   "version": "3.6.4"
  }
 },
 "nbformat": 4,
 "nbformat_minor": 2
}
